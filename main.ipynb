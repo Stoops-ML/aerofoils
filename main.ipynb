{
 "cells": [
  {
   "cell_type": "markdown",
   "metadata": {},
   "source": [
    "Input files must contain redistributed x coordinates according to base aerofoil file"
   ]
  },
  {
   "cell_type": "code",
   "execution_count": 1,
   "metadata": {},
   "outputs": [
    {
     "name": "stderr",
     "output_type": "stream",
     "text": [
      "WARNING:torch_lr_finder.lr_finder:To enable mixed precision training, please install `apex`. Or you can re-install this package by the following command:\n",
      "  pip install torch-lr-finder -v --global-option=\"amp\"\n"
     ]
    }
   ],
   "source": [
    "import torch\n",
    "from torch.utils.data import DataLoader\n",
    "from torchvision import transforms\n",
    "from torch_lr_finder import LRFinder\n",
    "\n",
    "import matplotlib.pyplot as plt\n",
    "%matplotlib inline\n",
    "import os\n",
    "from pathlib import Path\n",
    "import re\n",
    "import numpy as np\n",
    "import datetime\n",
    "\n",
    "import AerofoilDataset as AD\n",
    "from utils import *\n",
    "import ShowAerofoil as show\n",
    "from train_model import *\n",
    "from test_model import *\n",
    "from preprocessing import download_aerofoils, aerofoil_redistribution, split_data"
   ]
  },
  {
   "cell_type": "markdown",
   "metadata": {},
   "source": [
    "## Preprocessing\n",
    "Download aerofoil files and redistribute them along the x coordinates according to a base file. This allows us to remove the x dimension of our input entirely and halve our input."
   ]
  },
  {
   "cell_type": "code",
   "execution_count": 2,
   "metadata": {},
   "outputs": [
    {
     "name": "stdout",
     "output_type": "stream",
     "text": [
      "Number of aerofoils downloaded = 1638\n"
     ]
    },
    {
     "name": "stderr",
     "output_type": "stream",
     "text": [
      "/usr/local/anaconda3/envs/pytorch/lib/python3.7/site-packages/scipy/interpolate/interpolate.py:609: RuntimeWarning: divide by zero encountered in true_divide\n",
      "  slope = (y_hi - y_lo) / (x_hi - x_lo)[:, None]\n",
      "/usr/local/anaconda3/envs/pytorch/lib/python3.7/site-packages/scipy/interpolate/interpolate.py:612: RuntimeWarning: invalid value encountered in multiply\n",
      "  y_new = slope*(x_new - x_lo)[:, None] + y_lo\n",
      "/usr/local/anaconda3/envs/pytorch/lib/python3.7/site-packages/scipy/interpolate/interpolate.py:609: RuntimeWarning: invalid value encountered in true_divide\n",
      "  slope = (y_hi - y_lo) / (x_hi - x_lo)[:, None]\n"
     ]
    },
    {
     "name": "stdout",
     "output_type": "stream",
     "text": [
      "Number of coordinates in every aerofoil file: 180.\n",
      "\n"
     ]
    }
   ],
   "source": [
    "download_aerofoils('data/downloaded_aerofoils', overwrite=False)\n",
    "input_size = aerofoil_redistribution('data/downloaded_aerofoils/ag04-il.csv', 'data/downloaded_aerofoils/', \n",
    "                                     'data/redistributed_aerofoils')\n",
    "split_data('data/redistributed_aerofoils', 'data/processed_data')"
   ]
  },
  {
   "cell_type": "code",
   "execution_count": null,
   "metadata": {},
   "outputs": [],
   "source": [
    "# use Tensorboard for plotting\n",
    "TB_process, writer = use_tensorboard(save_dir)"
   ]
  },
  {
   "cell_type": "code",
   "execution_count": null,
   "metadata": {},
   "outputs": [],
   "source": [
    "# computational graph\n",
    "for sample in train_loader:\n",
    "        writer.add_graph(model, sample[0].float())\n",
    "writer.close()"
   ]
  },
  {
   "cell_type": "markdown",
   "metadata": {},
   "source": [
    "This is the base aerofoil in the above `aerofoil_redistribution` method in one and two dimensions. The model only sees one dimesion, as we have removed the x coordinates (all aerofoils have the same x coordinates after being passed through the `aerofoil_redistribution` method)."
   ]
  },
  {
   "cell_type": "code",
   "execution_count": 12,
   "metadata": {},
   "outputs": [
    {
     "data": {
      "image/png": "[encoded data removed]",
      "text/plain": [
       "<Figure size 432x288 with 1 Axes>"
      ]
     },
     "metadata": {
      "needs_background": "light"
     },
     "output_type": "display_data"
    },
    {
     "data": {
      "image/png": "[encoded data removed]",
      "text/plain": [
       "<Figure size 432x288 with 1 Axes>"
      ]
     },
     "metadata": {
      "needs_background": "light"
     },
     "output_type": "display_data"
    }
   ],
   "source": [
    "file = 'data/downloaded_aerofoils/ag04-il.csv'\n",
    "show.show_aerofoil(file)\n",
    "show.show_aerofoil(file, dimensions=1)"
   ]
  },
  {
   "cell_type": "code",
   "execution_count": 2,
   "metadata": {},
   "outputs": [],
   "source": [
    "# device configuration\n",
    "torch.manual_seed(0)\n",
    "device = torch.device('cuda' if torch.cuda.is_available() else 'cpu')"
   ]
  },
  {
   "cell_type": "code",
   "execution_count": 4,
   "metadata": {},
   "outputs": [],
   "source": [
    "# paths and files\n",
    "data_path = Path('data/processed_data')\n",
    "time_of_run = datetime.datetime.now().strftime(\"D%d_%m_%Y_T%H_%M_%S\")\n",
    "\n",
    "def _dir(folder):\n",
    "    return data_path / folder  # ('storage/aerofoils' if torch.cuda.is_available() else '')\n",
    "train_dir = _dir('train')\n",
    "valid_dir = _dir('valid')\n",
    "test_dir = _dir('test')\n",
    "save_dir = Path('save')\n",
    "save_dir.mkdir(exist_ok=True)"
   ]
  },
  {
   "cell_type": "markdown",
   "metadata": {},
   "source": [
    "## Model\n",
    "Create our model"
   ]
  },
  {
   "cell_type": "code",
   "execution_count": 5,
   "metadata": {},
   "outputs": [],
   "source": [
    "# hyper parameters\n",
    "hidden_layers = [50]\n",
    "# convolutions = [6, 16, 32]  for ConvNet\n",
    "convolutions = [64, 46, 46, 30]  # input/output channels of convolutions\n",
    "num_epochs = 1\n",
    "batch_size = 5\n",
    "learning_rate = 0.01\n",
    "dense_out_size = 32\n",
    "\n",
    "checkpoint_every = 5  # make a checkpoint every n epochs\n",
    "print_every = 1  # calculate and print output & plot losses after n epochs (after doing all batches within epoch)"
   ]
  },
  {
   "cell_type": "code",
   "execution_count": 6,
   "metadata": {},
   "outputs": [],
   "source": [
    "# find output size and number of channels\n",
    "with open(train_dir / os.listdir(train_dir)[0]) as f:\n",
    "    output_size = len([num for num in re.findall(r'[+-]?\\d*[.]?\\d*', f.readline()) if num != ''])  # outputs of sample are on first line of file\n",
    "num_channels = 1  # one channel for y coordinate (xy coordinates requires two channels)"
   ]
  },
  {
   "cell_type": "code",
   "execution_count": 7,
   "metadata": {},
   "outputs": [
    {
     "ename": "NameError",
     "evalue": "name 'input_size' is not defined",
     "output_type": "error",
     "traceback": [
      "\u001b[0;31m---------------------------------------------------------------------------\u001b[0m",
      "\u001b[0;31mNameError\u001b[0m                                 Traceback (most recent call last)",
      "\u001b[0;32m<ipython-input-7-7aea1d3aa2e0>\u001b[0m in \u001b[0;36m<module>\u001b[0;34m\u001b[0m\n\u001b[1;32m      3\u001b[0m     return AD.AerofoilDataset(directory, num_channels, input_size, output_size,\n\u001b[1;32m      4\u001b[0m                               transform=transforms.Compose([AD.NormaliseYValues(train_dir)]))  # all datasets use same scaling as training set\n\u001b[0;32m----> 5\u001b[0;31m \u001b[0mtrain_dataset\u001b[0m \u001b[0;34m=\u001b[0m \u001b[0m_dataset\u001b[0m\u001b[0;34m(\u001b[0m\u001b[0mtrain_dir\u001b[0m\u001b[0;34m,\u001b[0m \u001b[0mnum_channels\u001b[0m\u001b[0;34m,\u001b[0m \u001b[0minput_size\u001b[0m\u001b[0;34m,\u001b[0m \u001b[0moutput_size\u001b[0m\u001b[0;34m)\u001b[0m\u001b[0;34m\u001b[0m\u001b[0;34m\u001b[0m\u001b[0m\n\u001b[0m\u001b[1;32m      6\u001b[0m \u001b[0mvalid_dataset\u001b[0m \u001b[0;34m=\u001b[0m \u001b[0m_dataset\u001b[0m\u001b[0;34m(\u001b[0m\u001b[0mvalid_dir\u001b[0m\u001b[0;34m,\u001b[0m \u001b[0mnum_channels\u001b[0m\u001b[0;34m,\u001b[0m \u001b[0minput_size\u001b[0m\u001b[0;34m,\u001b[0m \u001b[0moutput_size\u001b[0m\u001b[0;34m)\u001b[0m\u001b[0;34m\u001b[0m\u001b[0;34m\u001b[0m\u001b[0m\n\u001b[1;32m      7\u001b[0m \u001b[0mtest_dataset\u001b[0m \u001b[0;34m=\u001b[0m \u001b[0m_dataset\u001b[0m\u001b[0;34m(\u001b[0m\u001b[0mtest_dir\u001b[0m\u001b[0;34m,\u001b[0m \u001b[0mnum_channels\u001b[0m\u001b[0;34m,\u001b[0m \u001b[0minput_size\u001b[0m\u001b[0;34m,\u001b[0m \u001b[0moutput_size\u001b[0m\u001b[0;34m)\u001b[0m\u001b[0;34m\u001b[0m\u001b[0;34m\u001b[0m\u001b[0m\n",
      "\u001b[0;31mNameError\u001b[0m: name 'input_size' is not defined"
     ]
    }
   ],
   "source": [
    "# import datasets\n",
    "def _dataset(directory, num_channels, input_size, output_size):\n",
    "    return AD.AerofoilDataset(directory, num_channels, input_size, output_size,\n",
    "                              transform=transforms.Compose([AD.NormaliseYValues(train_dir)]))  # all datasets use same scaling as training set\n",
    "train_dataset = _dataset(train_dir, num_channels, input_size, output_size)\n",
    "valid_dataset = _dataset(valid_dir, num_channels, input_size, output_size)\n",
    "test_dataset = _dataset(test_dir, num_channels, input_size, output_size)"
   ]
  },
  {
   "cell_type": "code",
   "execution_count": 8,
   "metadata": {},
   "outputs": [
    {
     "ename": "NameError",
     "evalue": "name 'train_dataset' is not defined",
     "output_type": "error",
     "traceback": [
      "\u001b[0;31m---------------------------------------------------------------------------\u001b[0m",
      "\u001b[0;31mNameError\u001b[0m                                 Traceback (most recent call last)",
      "\u001b[0;32m<ipython-input-8-d5cd6880f1ee>\u001b[0m in \u001b[0;36m<module>\u001b[0;34m\u001b[0m\n\u001b[1;32m      2\u001b[0m \u001b[0;32mdef\u001b[0m \u001b[0m_dataloader\u001b[0m\u001b[0;34m(\u001b[0m\u001b[0mdataset\u001b[0m\u001b[0;34m,\u001b[0m \u001b[0mbatch_size\u001b[0m\u001b[0;34m,\u001b[0m \u001b[0mshuffle\u001b[0m\u001b[0;34m)\u001b[0m\u001b[0;34m:\u001b[0m\u001b[0;34m\u001b[0m\u001b[0;34m\u001b[0m\u001b[0m\n\u001b[1;32m      3\u001b[0m     \u001b[0;32mreturn\u001b[0m \u001b[0mDataLoader\u001b[0m\u001b[0;34m(\u001b[0m\u001b[0mdataset\u001b[0m\u001b[0;34m=\u001b[0m\u001b[0mdataset\u001b[0m\u001b[0;34m,\u001b[0m \u001b[0mbatch_size\u001b[0m\u001b[0;34m=\u001b[0m\u001b[0mbatch_size\u001b[0m\u001b[0;34m,\u001b[0m \u001b[0mshuffle\u001b[0m\u001b[0;34m=\u001b[0m\u001b[0mshuffle\u001b[0m\u001b[0;34m,\u001b[0m \u001b[0mnum_workers\u001b[0m\u001b[0;34m=\u001b[0m\u001b[0;36m4\u001b[0m\u001b[0;34m)\u001b[0m\u001b[0;34m\u001b[0m\u001b[0;34m\u001b[0m\u001b[0m\n\u001b[0;32m----> 4\u001b[0;31m \u001b[0mtrain_loader\u001b[0m \u001b[0;34m=\u001b[0m \u001b[0m_dataloader\u001b[0m\u001b[0;34m(\u001b[0m\u001b[0mtrain_dataset\u001b[0m\u001b[0;34m,\u001b[0m \u001b[0mbatch_size\u001b[0m\u001b[0;34m,\u001b[0m \u001b[0mshuffle\u001b[0m\u001b[0;34m=\u001b[0m\u001b[0;32mTrue\u001b[0m\u001b[0;34m)\u001b[0m\u001b[0;34m\u001b[0m\u001b[0;34m\u001b[0m\u001b[0m\n\u001b[0m\u001b[1;32m      5\u001b[0m \u001b[0mvalid_loader\u001b[0m \u001b[0;34m=\u001b[0m \u001b[0m_dataloader\u001b[0m\u001b[0;34m(\u001b[0m\u001b[0mvalid_dataset\u001b[0m\u001b[0;34m,\u001b[0m \u001b[0mbatch_size\u001b[0m\u001b[0;34m*\u001b[0m\u001b[0;36m2\u001b[0m\u001b[0;34m,\u001b[0m \u001b[0mshuffle\u001b[0m\u001b[0;34m=\u001b[0m\u001b[0;32mFalse\u001b[0m\u001b[0;34m)\u001b[0m  \u001b[0;31m# not storing gradients, so can double bs\u001b[0m\u001b[0;34m\u001b[0m\u001b[0;34m\u001b[0m\u001b[0m\n\u001b[1;32m      6\u001b[0m \u001b[0mtest_loader\u001b[0m \u001b[0;34m=\u001b[0m \u001b[0m_dataloader\u001b[0m\u001b[0;34m(\u001b[0m\u001b[0mtest_dataset\u001b[0m\u001b[0;34m,\u001b[0m \u001b[0;36m1\u001b[0m\u001b[0;34m,\u001b[0m \u001b[0mshuffle\u001b[0m\u001b[0;34m=\u001b[0m\u001b[0;32mFalse\u001b[0m\u001b[0;34m)\u001b[0m  \u001b[0;31m# bs=1 required for top_losses()\u001b[0m\u001b[0;34m\u001b[0m\u001b[0;34m\u001b[0m\u001b[0m\n",
      "\u001b[0;31mNameError\u001b[0m: name 'train_dataset' is not defined"
     ]
    }
   ],
   "source": [
    "# dataloaders\n",
    "def _dataloader(dataset, batch_size, shuffle):\n",
    "    return DataLoader(dataset=dataset, batch_size=batch_size, shuffle=shuffle, num_workers=4)\n",
    "train_loader = _dataloader(train_dataset, batch_size, shuffle=True)\n",
    "valid_loader = _dataloader(valid_dataset, batch_size*2, shuffle=False)  # not storing gradients, so can double bs\n",
    "test_loader = _dataloader(test_dataset, 1, shuffle=False)  # bs=1 required for top_losses()"
   ]
  },
  {
   "cell_type": "code",
   "execution_count": 10,
   "metadata": {
    "scrolled": true
   },
   "outputs": [
    {
     "data": {
      "text/plain": [
       "DenseNet(\n",
       "  (lowconv): Conv1d(1, 64, kernel_size=(7,), stride=(1,), padding=(3,), bias=False)\n",
       "  (relu): ReLU()\n",
       "  (block_and_layer): ModuleList(\n",
       "    (0): Sequential(\n",
       "      (0): DenseBlock(\n",
       "        (relu): ReLU(inplace=True)\n",
       "        (bn): BatchNorm1d(64, eps=1e-05, momentum=0.1, affine=True, track_running_stats=True)\n",
       "        (dense_block): ModuleList(\n",
       "          (0): Conv1d(64, 32, kernel_size=(3,), stride=(1,), padding=(1,))\n",
       "          (1): Conv1d(96, 32, kernel_size=(3,), stride=(1,), padding=(1,))\n",
       "          (2): Conv1d(128, 32, kernel_size=(3,), stride=(1,), padding=(1,))\n",
       "        )\n",
       "      )\n",
       "      (1): TransitionLayer(\n",
       "        (relu): ReLU(inplace=True)\n",
       "        (bn): BatchNorm1d(46, eps=1e-05, momentum=0.1, affine=True, track_running_stats=True)\n",
       "        (conv): Conv1d(160, 46, kernel_size=(1,), stride=(1,), bias=False)\n",
       "        (avg_pool): AvgPool1d(kernel_size=(3,), stride=(2,), padding=(0,))\n",
       "      )\n",
       "    )\n",
       "    (1): Sequential(\n",
       "      (0): DenseBlock(\n",
       "        (relu): ReLU(inplace=True)\n",
       "        (bn): BatchNorm1d(46, eps=1e-05, momentum=0.1, affine=True, track_running_stats=True)\n",
       "        (dense_block): ModuleList(\n",
       "          (0): Conv1d(46, 32, kernel_size=(3,), stride=(1,), padding=(1,))\n",
       "          (1): Conv1d(78, 32, kernel_size=(3,), stride=(1,), padding=(1,))\n",
       "          (2): Conv1d(110, 32, kernel_size=(3,), stride=(1,), padding=(1,))\n",
       "        )\n",
       "      )\n",
       "      (1): TransitionLayer(\n",
       "        (relu): ReLU(inplace=True)\n",
       "        (bn): BatchNorm1d(46, eps=1e-05, momentum=0.1, affine=True, track_running_stats=True)\n",
       "        (conv): Conv1d(142, 46, kernel_size=(1,), stride=(1,), bias=False)\n",
       "        (avg_pool): AvgPool1d(kernel_size=(3,), stride=(2,), padding=(0,))\n",
       "      )\n",
       "    )\n",
       "    (2): Sequential(\n",
       "      (0): DenseBlock(\n",
       "        (relu): ReLU(inplace=True)\n",
       "        (bn): BatchNorm1d(46, eps=1e-05, momentum=0.1, affine=True, track_running_stats=True)\n",
       "        (dense_block): ModuleList(\n",
       "          (0): Conv1d(46, 32, kernel_size=(3,), stride=(1,), padding=(1,))\n",
       "          (1): Conv1d(78, 32, kernel_size=(3,), stride=(1,), padding=(1,))\n",
       "          (2): Conv1d(110, 32, kernel_size=(3,), stride=(1,), padding=(1,))\n",
       "        )\n",
       "      )\n",
       "      (1): TransitionLayer(\n",
       "        (relu): ReLU(inplace=True)\n",
       "        (bn): BatchNorm1d(30, eps=1e-05, momentum=0.1, affine=True, track_running_stats=True)\n",
       "        (conv): Conv1d(142, 30, kernel_size=(1,), stride=(1,), bias=False)\n",
       "        (avg_pool): AvgPool1d(kernel_size=(3,), stride=(2,), padding=(0,))\n",
       "      )\n",
       "    )\n",
       "  )\n",
       "  (bn): BatchNorm1d(30, eps=1e-05, momentum=0.1, affine=True, track_running_stats=True)\n",
       "  (fully_connected): ModuleList(\n",
       "    (0): FullyConnected(\n",
       "      (linear): Linear(in_features=630, out_features=50, bias=True)\n",
       "      (bn): BatchNorm1d(1, eps=1e-05, momentum=0.1, affine=True, track_running_stats=True)\n",
       "      (relu): LeakyReLU(negative_slope=0.01)\n",
       "    )\n",
       "  )\n",
       "  (final_layer): Sequential(\n",
       "    (0): Linear(in_features=50, out_features=2, bias=True)\n",
       "    (1): BatchNorm1d(1, eps=1e-05, momentum=0.1, affine=True, track_running_stats=True)\n",
       "  )\n",
       ")"
      ]
     },
     "execution_count": 10,
     "metadata": {},
     "output_type": "execute_result"
    }
   ],
   "source": [
    "# model, loss, optimiser, checkpoint\n",
    "model = DenseNet(input_size, output_size, convolutions, hidden_layers, num_channels, dense_out_size).to(device)\n",
    "# model = ConvNet(input_size, convolutions, num_channels, hidden_layers, output_size).to(device)\n",
    "criterion = metrics.MyLossFunc()\n",
    "optimiser = torch.optim.Adam(model.parameters(), lr=learning_rate)\n",
    "scheduler = torch.optim.lr_scheduler.ReduceLROnPlateau(optimiser, 'min', patience=5, verbose=True)\n",
    "\n",
    "# define checkpoint\n",
    "checkpoint = {'architecture':{'hidden_layers':hidden_layers, 'convolutions':convolutions,   # initialise\n",
    "                              'num_channels':num_channels, 'input_size':input_size, 'output_size':output_size,\n",
    "                              'dense_out_size':dense_out_size, 'optimiser':optimiser, 'scheduler':scheduler,\n",
    "                              'criterion':criterion},\n",
    "              'extras':{'save_dir':save_dir},\n",
    "              'hyperparameters':{'num_epochs':num_epochs, 'batch_size':batch_size, 'learning_rate':learning_rate}}\n",
    "model"
   ]
  },
  {
   "cell_type": "code",
   "execution_count": 17,
   "metadata": {},
   "outputs": [
    {
     "data": {
      "application/vnd.jupyter.widget-view+json": {
       "model_id": "663b40f4328b4befa8d7799e0e04c5ae",
       "version_major": 2,
       "version_minor": 0
      },
      "text/plain": [
       "HBox(children=(FloatProgress(value=0.0, max=200.0), HTML(value='')))"
      ]
     },
     "metadata": {},
     "output_type": "display_data"
    },
    {
     "name": "stdout",
     "output_type": "stream",
     "text": [
      "\n",
      "Learning rate search finished. See the graph with {finder_name}.plot()\n"
     ]
    },
    {
     "data": {
      "image/png": "[encoded data removed]",
      "text/plain": [
       "<Figure size 432x288 with 1 Axes>"
      ]
     },
     "metadata": {
      "needs_background": "light"
     },
     "output_type": "display_data"
    }
   ],
   "source": [
    "# find learning rate\n",
    "lr_finder = LRFinder(model, optimiser, criterion, device=device)\n",
    "lr_finder.range_test(train_loader, start_lr=0.00001, end_lr=20, num_iter=200)\n",
    "lr_finder.plot()\n",
    "lr_finder.reset()  # reset model and optimizer to their initial state"
   ]
  },
  {
   "cell_type": "code",
   "execution_count": 11,
   "metadata": {},
   "outputs": [
    {
     "name": "stdout",
     "output_type": "stream",
     "text": [
      "epoch 1/1, batch 252/252.\n",
      "Training loss = 0.7659, Validation loss = 0.9167\n",
      "\n"
     ]
    }
   ],
   "source": [
    "# train model\n",
    "model, checkpoints = train(model, optimiser, criterion, num_epochs, train_dataset, valid_dataset, train_loader, \n",
    "                           valid_loader, checkpoint, scheduler=scheduler, writer=False, print_every=5, \n",
    "                           checkpoint_every=None, device=device)"
   ]
  },
  {
   "cell_type": "code",
   "execution_count": 18,
   "metadata": {},
   "outputs": [],
   "source": [
    "torch.save(checkpoints[-1], 'last_checkpoint.pth')"
   ]
  },
  {
   "cell_type": "code",
   "execution_count": 19,
   "metadata": {},
   "outputs": [],
   "source": [
    "model, architecture, hyperparameters, extras = load_model('last_checkpoint.pth')"
   ]
  },
  {
   "cell_type": "code",
   "execution_count": 20,
   "metadata": {},
   "outputs": [
    {
     "name": "stdout",
     "output_type": "stream",
     "text": [
      "Test set results:\n",
      "Running test loss = 0.7151\n",
      "ClCd RMS: 0.86, angle RMS: 0.97\n"
     ]
    }
   ],
   "source": [
    "test(model, test_loader, test_dataset, architecture['criterion'], hyperparameters['num_epochs'], extras['save_dir'], \n",
    "     architecture['output_size'], device=device)"
   ]
  },
  {
   "cell_type": "code",
   "execution_count": 3,
   "metadata": {},
   "outputs": [
    {
     "name": "stdout",
     "output_type": "stream",
     "text": [
      "max lift-to-drag ratio = [[0.32473207]] at angle of attack = [[-0.16603656]] degrees\n"
     ]
    },
    {
     "data": {
      "text/plain": [
       "(tensor([[0.3247]]), tensor([[-0.1660]]))"
      ]
     },
     "execution_count": 3,
     "metadata": {},
     "output_type": "execute_result"
    }
   ],
   "source": [
    "file = 'data/redistributed_aerofoils/ag04-il.csv'\n",
    "prediction('last_checkpoint.pth', device, file, redistribute_coordinates=False, base_aerofoil=None, skiprows=1)"
   ]
  },
  {
   "cell_type": "code",
   "execution_count": 21,
   "metadata": {
    "scrolled": true
   },
   "outputs": [
    {
     "data": {
      "image/png": "[encoded data removed]",
      "text/plain": [
       "<Figure size 432x288 with 10 Axes>"
      ]
     },
     "metadata": {
      "needs_background": "light"
     },
     "output_type": "display_data"
    }
   ],
   "source": [
    "activations(model, num_epochs, test_loader, num_activations=10)"
   ]
  },
  {
   "cell_type": "code",
   "execution_count": 22,
   "metadata": {
    "scrolled": true
   },
   "outputs": [
    {
     "data": {
      "image/png": "[encoded data removed]",
      "text/plain": [
       "<Figure size 432x288 with 1 Axes>"
      ]
     },
     "metadata": {
      "needs_background": "light"
     },
     "output_type": "display_data"
    }
   ],
   "source": [
    "heat_map(model, input_size, num_epochs, dataloader=test_loader, layer=-1, writer=False, device=device)"
   ]
  },
  {
   "cell_type": "code",
   "execution_count": null,
   "metadata": {},
   "outputs": [],
   "source": [
    "# kill TensorBoard\n",
    "kill_tensorboard(TB_process)"
   ]
  }
 ],
 "metadata": {
  "kernelspec": {
   "display_name": "Python 3",
   "language": "python",
   "name": "python3"
  },
  "language_info": {
   "codemirror_mode": {
    "name": "ipython",
    "version": 3
   },
   "file_extension": ".py",
   "mimetype": "text/x-python",
   "name": "python",
   "nbconvert_exporter": "python",
   "pygments_lexer": "ipython3",
   "version": "3.7.7"
  }
 },
 "nbformat": 4,
 "nbformat_minor": 4
}
